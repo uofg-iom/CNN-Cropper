{
  "cells": [
    {
      "cell_type": "markdown",
      "metadata": {
        "colab_type": "text",
        "id": "view-in-github"
      },
      "source": [
        "<a href=\"https://colab.research.google.com/github/uofg-iom/CNN-Cropper/blob/main/Croppy.ipynb\" target=\"_parent\"><img src=\"https://colab.research.google.com/assets/colab-badge.svg\" alt=\"Open In Colab\"/></a>"
      ]
    },
    {
      "cell_type": "code",
      "execution_count": null,
      "metadata": {
        "colab": {
          "base_uri": "https://localhost:8080/"
        },
        "id": "bAiybIqNElBj",
        "outputId": "b7363027-a956-45b8-9656-4d6f8029f32d"
      },
      "outputs": [],
      "source": [
        "!python -m pip install pyyaml==5.1\n",
        "import sys, os, distutils.core\n",
        "# Note: This is a faster way to install detectron2 in Colab, but it does not include all functionalities.\n",
        "# See https://detectron2.readthedocs.io/tutorials/install.html for full installation instructions\n",
        "!git clone 'https://github.com/facebookresearch/detectron2'\n",
        "dist = distutils.core.run_setup(\"./detectron2/setup.py\")\n",
        "!python -m pip install {' '.join([f\"'{x}'\" for x in dist.install_requires])}\n",
        "sys.path.insert(0, os.path.abspath('./detectron2'))\n",
        "\n",
        "# Properly install detectron2. (Please do not install twice in both ways)\n",
        "# !python -m pip install 'git+https://github.com/facebookresearch/detectron2.git'\n",
        "\n",
        "import torch, detectron2\n",
        "!nvcc --version\n",
        "TORCH_VERSION = \".\".join(torch.__version__.split(\".\")[:2])\n",
        "CUDA_VERSION = torch.__version__.split(\"+\")[-1]\n",
        "print(\"torch: \", TORCH_VERSION, \"; cuda: \", CUDA_VERSION)\n",
        "print(\"detectron2:\", detectron2.__version__)\n",
        "\n",
        "# Some basic setup:\n",
        "# Setup detectron2 logger\n",
        "import detectron2\n",
        "from detectron2.utils.logger import setup_logger\n",
        "setup_logger()\n",
        "\n",
        "# import some common libraries\n",
        "import numpy as np\n",
        "import os, json, cv2, random\n",
        "from google.colab.patches import cv2_imshow\n",
        "\n",
        "# import some common detectron2 utilities\n",
        "from detectron2 import model_zoo\n",
        "from detectron2.engine import DefaultPredictor\n",
        "from detectron2.config import get_cfg\n",
        "from detectron2.utils.visualizer import Visualizer\n",
        "from detectron2.data import MetadataCatalog, DatasetCatalog"
      ]
    },
    {
      "cell_type": "code",
      "execution_count": null,
      "metadata": {
        "colab": {
          "base_uri": "https://localhost:8080/"
        },
        "id": "BvL6bPt6E_6_",
        "outputId": "1e0069e4-4906-413c-aae6-48ad3d9652ba"
      },
      "outputs": [],
      "source": [
        "from google.colab import drive\n",
        "drive.mount('/content/drive',force_remount=True)\n",
        "\n",
        "ROOT = \"/content/drive/My Drive/DSTP/\""
      ]
    },
    {
      "cell_type": "code",
      "execution_count": null,
      "metadata": {
        "colab": {
          "base_uri": "https://localhost:8080/",
          "height": 830
        },
        "id": "uUCYr49ZE0PD",
        "outputId": "af5adc60-70c0-4882-a92d-169ae672c3be"
      },
      "outputs": [],
      "source": [
        "import os\n",
        "import numpy as np\n",
        "import json\n",
        "from detectron2.structures import BoxMode\n",
        "from detectron2.data import DatasetCatalog, MetadataCatalog\n",
        "\n",
        "thing_classes = ['cheek','forehead']\n",
        "thing_folder  = 'faces'\n",
        "\n",
        "def get_labelled_dicts(directory):\n",
        "    classes = thing_classes\n",
        "    dataset_dicts = []\n",
        "    for filename in [file for file in os.listdir(directory) if file.endswith('.json')]:\n",
        "        json_file = os.path.join(directory, filename)\n",
        "        with open(json_file) as f:\n",
        "            img_anns = json.load(f)\n",
        "\n",
        "        record = {}\n",
        "        \n",
        "        filename = os.path.join(directory, img_anns[\"imagePath\"])\n",
        "        \n",
        "        record[\"file_name\"] = filename\n",
        "        record[\"height\"] = img_anns[\"imageHeight\"]\n",
        "        record[\"width\"] = img_anns[\"imageWidth\"]\n",
        "      \n",
        "        annos = img_anns[\"shapes\"]\n",
        "        objs = []\n",
        "        for anno in annos:\n",
        "            px = [a[0] for a in anno['points']]\n",
        "            py = [a[1] for a in anno['points']]\n",
        "            poly = [(x, y) for x, y in zip(px, py)]\n",
        "            poly = [p for x in poly for p in x]\n",
        "\n",
        "            obj = {\n",
        "                \"bbox\": [np.min(px), np.min(py), np.max(px), np.max(py)],\n",
        "                \"bbox_mode\": BoxMode.XYXY_ABS,\n",
        "                \"segmentation\": [poly],\n",
        "                \"category_id\": classes.index(anno['label']),\n",
        "                \"iscrowd\": 0\n",
        "            }\n",
        "            objs.append(obj)\n",
        "        record[\"annotations\"] = objs\n",
        "        dataset_dicts.append(record)\n",
        "    return dataset_dicts\n",
        "\n",
        "for d in [\"train\", \"test\"]:\n",
        "    DatasetCatalog.register(thing_folder+\"_\" + d, lambda d=d: get_labelled_dicts(ROOT+thing_folder+'/' + d))\n",
        "    MetadataCatalog.get(thing_folder+\"_\" + d).set(thing_classes=thing_classes)\n",
        "skins_metadata = MetadataCatalog.get(thing_folder+\"_train\")\n",
        "\n",
        "cfg = get_cfg()\n",
        "\n",
        "cfg.merge_from_file(model_zoo.get_config_file(\"COCO-InstanceSegmentation/mask_rcnn_R_50_FPN_3x.yaml\"))\n",
        "cfg.MODEL.ROI_HEADS.SCORE_THRESH_TEST = 0.5  # set threshold for this model\n",
        "\n",
        "cfg.MODEL.WEIGHTS = model_zoo.get_checkpoint_url(\"COCO-InstanceSegmentation/mask_rcnn_R_50_FPN_3x.yaml\")\n",
        "\n",
        "cfg.MODEL.ROI_HEADS.NUM_CLASSES = 4\n",
        "cfg.MODEL.WEIGHTS = os.path.join(\"/content/drive/My Drive/DSTP/model_final.pth\")\n",
        "cfg.MODEL.ROI_HEADS.SCORE_THRESH_TEST = 0.5 \n",
        "cfg.DATASETS.TEST = (thing_folder+\"_test\", )\n",
        "predictor = DefaultPredictor(cfg)\n",
        "\n",
        "import matplotlib.pyplot as plt\n",
        "from detectron2.utils.visualizer import ColorMode\n",
        "dataset_dicts = get_labelled_dicts(ROOT+thing_folder+'/validation')\n",
        "print(dataset_dicts)\n",
        "\n",
        "for d in random.sample(dataset_dicts, 1):    \n",
        "    im = cv2.imread(d[\"file_name\"])\n",
        "    outputs = predictor(im)\n",
        "    v = Visualizer(im[:, :, ::-1],\n",
        "                   metadata=skins_metadata, \n",
        "                   scale=0.8, \n",
        "                   instance_mode=ColorMode.IMAGE_BW   # remove the colors of unsegmented pixels\n",
        "    )\n",
        "    v = v.draw_instance_predictions(outputs[\"instances\"].to(\"cpu\"))\n",
        "    plt.figure(figsize = (14, 10))\n",
        "    plt.imshow(cv2.cvtColor(v.get_image()[:, :, ::-1], cv2.COLOR_BGR2RGB))\n",
        "    plt.show()"
      ]
    },
    {
      "cell_type": "code",
      "execution_count": null,
      "metadata": {
        "colab": {
          "base_uri": "https://localhost:8080/",
          "height": 1000
        },
        "id": "NHmYbq7kFgDX",
        "outputId": "3c443f1b-38a7-4015-97fa-75cc878b49d7"
      },
      "outputs": [],
      "source": [
        "# [list(el2) for el2 in list(el)]\n",
        "boxes = [el.numpy() for el in list(vars(outputs[\"instances\"].to(\"cpu\"))[\"_fields\"][\"pred_boxes\"])]\n",
        "\n",
        "print(boxes)\n",
        "# print(im.shape)\n",
        "\n",
        "def crop(box,im):\n",
        "  box = [int(el) for el in box]\n",
        "  # print(box)\n",
        "  top = box[1]\n",
        "  bottom = box[3]\n",
        "  left = box[0]\n",
        "  right = box[2]\n",
        "  return im[top:bottom,left:right,:]\n",
        "  \n",
        "\n",
        "for i,box in enumerate(boxes):\n",
        "  cropped = crop(box,im)\n",
        "  plt.imshow(cv2.cvtColor(cropped, cv2.COLOR_BGR2RGB))\n",
        "  plt.show()\n",
        "  cv2.imwrite(\"/content/output/cropped\"+str(i)+\".png\",cropped)\n"
      ]
    },
    {
      "cell_type": "code",
      "execution_count": null,
      "metadata": {
        "colab": {
          "base_uri": "https://localhost:8080/",
          "height": 1000
        },
        "id": "mwtIRPkRlMy_",
        "outputId": "a5b502e0-33ef-44e5-e1bc-0dd02ccfc56c"
      },
      "outputs": [],
      "source": [
        "def predictAndCrop(filename,outputFolder=\"/content/output\",outputName=\"cropped\"):\n",
        "  im = cv2.imread(filename)\n",
        "\n",
        "  outputs = predictor(im)\n",
        "\n",
        "  boxes = [el.numpy() for el in list(vars(outputs[\"instances\"].to(\"cpu\"))[\"_fields\"][\"pred_boxes\"])]\n",
        "\n",
        "  for i,box in enumerate(boxes):\n",
        "    cropped = crop(box,im)\n",
        "    # plt.imshow(cv2.cvtColor(cropped, cv2.COLOR_BGR2RGB))\n",
        "    # plt.show()\n",
        "    cv2.imwrite(os.path.join(outputFolder,outputName+str(i)+\".png\"),cropped)\n",
        "\n",
        "predictAndCrop(\"/content/IMG_2942.png\",outputName=\"outone\")\n",
        "predictAndCrop(\"/content/IMG_2943.png\",outputName=\"outtwo\")\n",
        "predictAndCrop(\"/content/IMG_2944.png\",outputName=\"outthree\")"
      ]
    },
    {
      "cell_type": "code",
      "execution_count": null,
      "metadata": {
        "colab": {
          "base_uri": "https://localhost:8080/",
          "height": 456
        },
        "id": "Rf_rETbUn8vD",
        "outputId": "28b31ecd-5dd9-4eeb-d828-af8e7a3ae65c"
      },
      "outputs": [],
      "source": [
        "predictAndCrop(\"/content/IMG_20230426_114746_HDR.JPG\",outputName=\"outfour\")"
      ]
    },
    {
      "cell_type": "code",
      "execution_count": null,
      "metadata": {
        "colab": {
          "base_uri": "https://localhost:8080/",
          "height": 366
        },
        "id": "v57ij1kAoYMn",
        "outputId": "6d573058-7cfe-4668-a404-34fd72029c96"
      },
      "outputs": [],
      "source": [
        "predictAndCrop(\"/content/Camera shot 2023-04-26 at 13.54.33.png\",outputName=\"outfive\")"
      ]
    },
    {
      "cell_type": "code",
      "execution_count": null,
      "metadata": {
        "colab": {
          "base_uri": "https://localhost:8080/",
          "height": 366
        },
        "id": "dtO3cbdLo78h",
        "outputId": "4fee1303-1386-4dd7-e8dc-2cdddfc5721c"
      },
      "outputs": [],
      "source": [
        "predictAndCrop(\"/content/Camera shot 2023-04-26 at 13.57.06.png\",outputName=\"outfive\")"
      ]
    },
    {
      "cell_type": "code",
      "execution_count": null,
      "metadata": {
        "id": "ljFEHBeiqFKr"
      },
      "outputs": [],
      "source": [
        "!cp -r /content/output /content/drive/MyDrive/DSTP/croppedCheeks/"
      ]
    }
  ],
  "metadata": {
    "accelerator": "GPU",
    "colab": {
      "authorship_tag": "ABX9TyNmZqvA2mIKS7Bde3uwTGjE",
      "include_colab_link": true,
      "provenance": []
    },
    "gpuClass": "standard",
    "kernelspec": {
      "display_name": "Python 3",
      "name": "python3"
    },
    "language_info": {
      "name": "python"
    }
  },
  "nbformat": 4,
  "nbformat_minor": 0
}
